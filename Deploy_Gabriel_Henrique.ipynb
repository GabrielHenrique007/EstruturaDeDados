{
  "nbformat": 4,
  "nbformat_minor": 0,
  "metadata": {
    "colab": {
      "provenance": [],
      "authorship_tag": "ABX9TyOqxV+iU+DzakyyKb6egvVm",
      "include_colab_link": true
    },
    "kernelspec": {
      "name": "python3",
      "display_name": "Python 3"
    },
    "language_info": {
      "name": "python"
    }
  },
  "cells": [
    {
      "cell_type": "markdown",
      "metadata": {
        "id": "view-in-github",
        "colab_type": "text"
      },
      "source": [
        "<a href=\"https://colab.research.google.com/github/GabrielHenrique007/EstruturaDeDados/blob/main/Deploy_Gabriel_Henrique.ipynb\" target=\"_parent\"><img src=\"https://colab.research.google.com/assets/colab-badge.svg\" alt=\"Open In Colab\"/></a>"
      ]
    },
    {
      "cell_type": "code",
      "source": [
        "#Conceito de variavel\n",
        "x = [10, 5, 11, 0, 3]\n",
        "print(x)\n",
        "type(x)"
      ],
      "metadata": {
        "colab": {
          "base_uri": "https://localhost:8080/"
        },
        "id": "GufRiQNqrPKK",
        "outputId": "dc74228a-164b-4e6b-c0b0-e1c608f21a55"
      },
      "execution_count": null,
      "outputs": [
        {
          "output_type": "stream",
          "name": "stdout",
          "text": [
            "[10, 5, 11, 0, 3]\n"
          ]
        },
        {
          "output_type": "execute_result",
          "data": {
            "text/plain": [
              "list"
            ]
          },
          "metadata": {},
          "execution_count": 6
        }
      ]
    },
    {
      "cell_type": "markdown",
      "source": [
        "Exemplo de aula prática:\n",
        "\n",
        "Livro : POO Progamação orientado a objeto com python\n",
        "\n",
        "Repositório no github kadidja: https://github.com/Kadidjah/POO_python-orientacao-a-objetos"
      ],
      "metadata": {
        "id": "Q7PSVn1IrajR"
      }
    },
    {
      "cell_type": "code",
      "source": [
        "numero = \"123-4\"\n",
        "titular = \"João\"\n",
        "saldo = 120.0\n",
        "limite = 1000.0"
      ],
      "metadata": {
        "id": "41aV66Cfrfd0"
      },
      "execution_count": null,
      "outputs": []
    },
    {
      "cell_type": "code",
      "source": [
        "numero1 = '123-4'\n",
        "titular1 = \"João\"\n",
        "saldo1 = 120.0\n",
        "limite1 = 1000.0\n",
        "\n",
        "numero2 = '123-5'\n",
        "titular2 = \"José\"\n",
        "saldo2 = 200.0\n",
        "limite2 = 1000.0"
      ],
      "metadata": {
        "id": "4GtEAR70sBBE"
      },
      "execution_count": null,
      "outputs": []
    },
    {
      "cell_type": "code",
      "source": [
        "conta = {\"numero\": '123-4', \"titular\": \"João\", \"saldo\": 120.0, \"limite\": 1000.0}"
      ],
      "metadata": {
        "id": "dJXbo2_psCWj"
      },
      "execution_count": null,
      "outputs": []
    },
    {
      "cell_type": "code",
      "source": [
        "conta[\"numero\"]"
      ],
      "metadata": {
        "colab": {
          "base_uri": "https://localhost:8080/",
          "height": 35
        },
        "id": "gz9I2en9sE-A",
        "outputId": "7403f04c-a317-4944-e8a1-1b06ed5c2443"
      },
      "execution_count": null,
      "outputs": [
        {
          "output_type": "execute_result",
          "data": {
            "text/plain": [
              "'123-4'"
            ],
            "application/vnd.google.colaboratory.intrinsic+json": {
              "type": "string"
            }
          },
          "metadata": {},
          "execution_count": 11
        }
      ]
    },
    {
      "cell_type": "code",
      "source": [
        "conta2 = {\"numero\": '123-4', \"titular\": \"João\", \"saldo\": 120.0, \"limite\": 1000.0}"
      ],
      "metadata": {
        "id": "TFKQkCbRsHJk"
      },
      "execution_count": null,
      "outputs": []
    },
    {
      "cell_type": "code",
      "source": [
        "def cria_conta():\n",
        "    conta = {\"numero\": '123-4', \"titular\": \"João\", \"saldo\": 120.0, \"limite\": 1000.0}\n",
        "    return conta"
      ],
      "metadata": {
        "id": "xIaRrB7vsJTY"
      },
      "execution_count": null,
      "outputs": []
    },
    {
      "cell_type": "code",
      "source": [
        "def cria_conta(numero, titular, saldo, limite):\n",
        "    conta = {\"numero\": numero, \"titular\": titular, \"saldo\": saldo, \"limite\": limite}\n",
        "    return conta"
      ],
      "metadata": {
        "id": "espsWUl_sLDo"
      },
      "execution_count": null,
      "outputs": []
    },
    {
      "cell_type": "code",
      "source": [
        "conta1 = cria_conta('123-4', 'João', 120.0, 1000.0)\n",
        "conta2 = cria_conta('123-5', 'José', 200.0, 1000.0)"
      ],
      "metadata": {
        "id": "xQRikD5VsNIj"
      },
      "execution_count": null,
      "outputs": []
    },
    {
      "cell_type": "code",
      "source": [
        "conta1['numero']"
      ],
      "metadata": {
        "colab": {
          "base_uri": "https://localhost:8080/",
          "height": 35
        },
        "id": "y10FvIxrsPD4",
        "outputId": "348f31ed-ee9b-4d93-a33f-b925d282892d"
      },
      "execution_count": null,
      "outputs": [
        {
          "output_type": "execute_result",
          "data": {
            "text/plain": [
              "'123-4'"
            ],
            "application/vnd.google.colaboratory.intrinsic+json": {
              "type": "string"
            }
          },
          "metadata": {},
          "execution_count": 16
        }
      ]
    },
    {
      "cell_type": "code",
      "source": [
        "conta2['numero']"
      ],
      "metadata": {
        "colab": {
          "base_uri": "https://localhost:8080/",
          "height": 35
        },
        "id": "wsrX1j99sQuY",
        "outputId": "5fe389e0-2d50-469a-e2af-121cdecb2daa"
      },
      "execution_count": null,
      "outputs": [
        {
          "output_type": "execute_result",
          "data": {
            "text/plain": [
              "'123-5'"
            ],
            "application/vnd.google.colaboratory.intrinsic+json": {
              "type": "string"
            }
          },
          "metadata": {},
          "execution_count": 17
        }
      ]
    },
    {
      "cell_type": "code",
      "source": [
        "#funcionalidades\n",
        "def deposita(conta, valor):\n",
        "    conta['saldo'] = conta['saldo'] + valor"
      ],
      "metadata": {
        "id": "lp0mymIhsTBs"
      },
      "execution_count": null,
      "outputs": []
    },
    {
      "cell_type": "code",
      "source": [
        "def deposita(conta, valor):\n",
        "    conta['saldo'] += valor"
      ],
      "metadata": {
        "id": "CcrO3JiZsUvk"
      },
      "execution_count": null,
      "outputs": []
    },
    {
      "cell_type": "code",
      "source": [
        "def saca(conta, valor):\n",
        "    conta['saldo'] -= valor"
      ],
      "metadata": {
        "id": "n297_XawsWWQ"
      },
      "execution_count": null,
      "outputs": []
    },
    {
      "cell_type": "code",
      "source": [
        "def extrato(conta):\n",
        "    print(\"numero: {} \\nsaldo: {}\".format(conta['numero'], conta['saldo']))"
      ],
      "metadata": {
        "id": "9rFnYQ6KsYZO"
      },
      "execution_count": null,
      "outputs": []
    },
    {
      "cell_type": "code",
      "source": [
        "    conta = cria_conta('123-4', 'João', 120.0, 1000.0)\n",
        "    deposita(conta, 15.0)\n",
        "    extrato(conta)\n",
        "\n",
        "    #numero: '123-4'\n",
        "    #saldo: 135.0\n",
        "\n",
        "    saca(conta, 20.0)\n",
        "    extrato(conta)\n",
        "\n",
        "    #numero: '123-4'\n",
        "    #saldo 115.0"
      ],
      "metadata": {
        "colab": {
          "base_uri": "https://localhost:8080/"
        },
        "id": "Lis3YhDisZMN",
        "outputId": "ecf1f261-e4dc-41b1-b421-5acbdd6e3c1d"
      },
      "execution_count": null,
      "outputs": [
        {
          "output_type": "stream",
          "name": "stdout",
          "text": [
            "numero: 123-4 \n",
            "saldo: 135.0\n",
            "numero: 123-4 \n",
            "saldo: 115.0\n"
          ]
        }
      ]
    },
    {
      "cell_type": "code",
      "source": [
        "class pessoa:\n",
        "  def __init__(self, nome, idade, peso, altura):\n",
        "    self.nome = nome\n",
        "    self.idade = idade\n",
        "    self.peso = peso\n",
        "    self.altura = altura\n",
        "\n",
        "  def envelhecer(self, anos =1):\n",
        "\n",
        "      for _ in range(anos):\n",
        "        self.idade += 1\n",
        "        if self.idade < 21:\n",
        "          self.altura += 0.05\n",
        "\n",
        "  def engordar(self, quilos):\n",
        "    self.peso -= quilos\n",
        "\n",
        "  def crescer(self, centimetros):\n",
        "    self.altura += centimetros\n",
        "\n",
        "\n",
        "#exemplo de uso\n",
        "\n",
        "pessoal = pessoa(\"Alice\", 18, 60.0, 100.0)\n",
        "print(f\"Nome: {pessoal.nome}, idade {pessoal.idade}, Peso {pessoal.peso} kg, Altura: {pessoal.altura} cm\")\n",
        "\n",
        "pessoal.envelhecer(3)\n",
        "pessoal.engordar(2.5)\n",
        "pessoal.crescer(1)\n",
        "\n",
        "print(f\"Nome: {pessoal.nome}, idade {pessoal.idade}, Peso {pessoal.peso} kg, Altura: {pessoal.altura} cm\")"
      ],
      "metadata": {
        "colab": {
          "base_uri": "https://localhost:8080/"
        },
        "id": "iz1JH68VsbNi",
        "outputId": "204b969c-3a5a-4325-efa7-63db2ff82a4e"
      },
      "execution_count": null,
      "outputs": [
        {
          "output_type": "stream",
          "name": "stdout",
          "text": [
            "Nome: Alice, idade 18, Peso 60.0 kg, Altura: 100.0 cm\n",
            "Nome: Alice, idade 21, Peso 57.5 kg, Altura: 101.1 cm\n"
          ]
        }
      ]
    },
    {
      "cell_type": "markdown",
      "source": [
        "**Apostila Unidade 1**"
      ],
      "metadata": {
        "id": "tUHLiS3osgBg"
      }
    },
    {
      "cell_type": "markdown",
      "source": [
        "### 1. Listas\n",
        "\n",
        "**Características Principais:**\n",
        "- **Ordenadas:** Os elementos têm posições (índices) que vão de 0 em diante, podendo também ser acessados com índices negativos (começando do -1 para o último elemento) citeturn0file0.\n",
        "- **Mutáveis:** Você pode alterar seus elementos, adicionar ou remover itens após a criação.\n",
        "- **Heterogêneas:** Aceitam elementos de tipos diferentes, inclusive outras listas.\n",
        "\n",
        "**Criação e Atribuição:**\n",
        "- Pode ser criada usando colchetes:  \n",
        "  ```python\n",
        "  x = [10, 5, 11, 0, 3]\n",
        "  ```\n",
        "- Listas vazias:  \n",
        "  ```python\n",
        "  x = []   # ou x = list()\n",
        "  ```\n",
        "\n",
        "**Principais Operadores e Métodos:**\n",
        "- **Concatenação:** Uso do operador `+` para unir listas e do `*` para repetir elementos.\n",
        "- **Modificação:**  \n",
        "  - `append(valor)` – adiciona um elemento no final.  \n",
        "  - `insert(indice, valor)` – insere o valor na posição especificada.  \n",
        "  - `pop(indice)` – remove e retorna o elemento da posição indicada.  \n",
        "  - `remove(valor)` – remove a primeira ocorrência do valor.  \n",
        "  - `clear()` – esvazia a lista.\n",
        "- **Outros Métodos:**  \n",
        "  - `count(valor)` – conta quantas vezes um valor aparece.  \n",
        "  - `index(valor)` – retorna a posição da primeira ocorrência.\n",
        "- **Laço for e Operador in:** Permitem iterar sobre os elementos e testar a presença de um item.\n",
        "- **List Comprehension:** Forma compacta de criar novas listas, podendo incluir condições.  \n",
        "  Exemplo:\n",
        "  ```python\n",
        "  A = [3, 4, 5, 10]\n",
        "  soma1 = [i + 1 for i in A]\n",
        "  ```\n",
        "- **Fatiamento (Slicing):** A sintaxe `[início:fim:passo]` permite extrair sublistas.  \n",
        "  Exemplo:\n",
        "  ```python\n",
        "  X = [1, 2, 3, 4, 5, 6, 7, 8, 9, 0]\n",
        "  print(X[:: -1])  # Imprime a lista de trás para frente\n",
        "  ```  \n",
        "Esses conceitos e métodos são essenciais para manipulação e processamento de dados usando listas citeturn0file0.\n",
        "\n",
        "---\n",
        "\n",
        "### 2. Tuplas\n",
        "\n",
        "**Características Principais:**\n",
        "- **Ordenadas e Heterogêneas:** Assim como as listas, porém são **imutáveis** – ou seja, uma vez criada, não pode ser alterada.\n",
        "- **Criação:** Utiliza parênteses ou a função `tuple()`.  \n",
        "  Exemplo:\n",
        "  ```python\n",
        "  x = ('a', 1, 2)\n",
        "  ```\n",
        "- **Imutabilidade:** Se a tupla contiver elementos mutáveis (como listas), estes podem ser modificados sem alterar a própria tupla.  \n",
        "  Exemplo:\n",
        "  ```python\n",
        "  x = ([0, 1, 2], 2, 2)\n",
        "  x[0][0] = 'mudei'\n",
        "  ```\n",
        "- **Operadores:** Pode ser concatenada com `+` e repetida com `*`; também suporta comparações usando operadores relacionais.\n",
        "- **Métodos Disponíveis:** Apenas `count()` e `index()` estão disponíveis, além de poder usar `dir(tuple)` para listar métodos citeturn0file0.\n",
        "\n",
        "---\n",
        "\n",
        "### 3. Dicionários\n",
        "\n",
        "**Características Principais:**\n",
        "- **Chave-Valor:** Cada elemento é armazenado como par chave:valor, onde a chave é a \"etiqueta\" para acessar o valor.\n",
        "- **Mutáveis e Heterogêneos:** Permitem alterações após a criação e os valores podem ser de tipos variados.\n",
        "- **Criação:**  \n",
        "  ```python\n",
        "  X = {'idade': 21, 'matricula': 10000, 'nome': 'Joao'}\n",
        "  ```\n",
        "  Dicionários vazios podem ser criados com `{}` ou `dict()`.\n",
        "- **Acesso e Métodos:**\n",
        "  - Acesso direto por chave: `X['idade']` retorna `21`.\n",
        "  - `get(chave, default)` – retorna o valor associado ou um valor padrão se a chave não existir.\n",
        "  - Métodos úteis: `clear()`, `copy()`, `items()`, `keys()`, `pop()`, `update()`, entre outros.\n",
        "- **Iteração:**  \n",
        "  - Iterar somente pelas chaves:  \n",
        "    ```python\n",
        "    for chave in X:\n",
        "        print(chave)\n",
        "    ```\n",
        "  - Iterar por chaves e valores:\n",
        "    ```python\n",
        "    for chave, valor in X.items():\n",
        "        print(chave, valor)\n",
        "    ```  \n",
        "Esses pontos são cruciais para manipulação de dados complexos com dicionários citeturn0file0.\n",
        "\n",
        "---\n",
        "\n",
        "### 4. Strings\n",
        "\n",
        "**Características Principais:**\n",
        "- **Sequência de Caracteres:** São ordenadas, homogêneas (apenas caracteres) e imutáveis.\n",
        "- **Indexação e Fatiamento:**  \n",
        "  Acesso individual aos caracteres funciona como em listas:\n",
        "  ```python\n",
        "  P = 'Palavra'\n",
        "  print(P[0])  # 'P'\n",
        "  print(P[-1]) # 'a'\n",
        "  ```\n",
        "- **Operadores:**  \n",
        "  - Concatenar com `+`: `'abc' + 'def'` resulta em `'abcdef'`.\n",
        "  - Repetir com `*`: `'abc' * 3` resulta em `'abcabcabc'`.\n",
        "\n",
        "- **Métodos Comuns:**  \n",
        "  - `capitalize()`, `lower()`, `upper()`, `split()`, `replace()`, `count()`, `index()`, `isalnum()`, `isalpha()`, entre outros.\n",
        "\n",
        "\n",
        "#### **capitalize()**\n",
        "- **Descrição:**  \n",
        "  Retorna uma nova string onde o primeiro caractere é convertido para maiúsculo e os demais para minúsculo.\n",
        "- **Exemplo:**\n",
        "  ```python\n",
        "  texto = \"python é incrível\"\n",
        "  resultado = texto.capitalize()\n",
        "  print(resultado)  # Saída: \"Python é incrível\"\n",
        "  ```\n",
        "- **Uso:**  \n",
        "  Útil para padronizar títulos ou nomes, garantindo que a primeira letra seja maiúscula.\n",
        "\n",
        "---\n",
        "\n",
        "#### **lower()**\n",
        "- **Descrição:**  \n",
        "  Retorna uma cópia da string com todos os caracteres convertidos para minúsculo.\n",
        "- **Exemplo:**\n",
        "  ```python\n",
        "  texto = \"Python É Incrível\"\n",
        "  resultado = texto.lower()\n",
        "  print(resultado)  # Saída: \"python é incrível\"\n",
        "  ```\n",
        "- **Uso:**  \n",
        "  Essencial para comparações de texto sem considerar diferenças entre maiúsculas e minúsculas.\n",
        "\n",
        "---\n",
        "\n",
        "#### **upper()**\n",
        "- **Descrição:**  \n",
        "  Retorna uma nova string com todos os caracteres convertidos para maiúsculo.\n",
        "- **Exemplo:**\n",
        "  ```python\n",
        "  texto = \"Python é incrível\"\n",
        "  resultado = texto.upper()\n",
        "  print(resultado)  # Saída: \"PYTHON É INCRÍVEL\"\n",
        "  ```\n",
        "- **Uso:**  \n",
        "  Usado para exibir textos de forma padronizada ou para comparações quando se quer ignorar a caixa dos caracteres.\n",
        "\n",
        "---\n",
        "\n",
        "#### **split()**\n",
        "- **Descrição:**  \n",
        "  Divide a string em uma lista de substrings, utilizando como delimitador (por padrão, espaço em branco) ou um caractere especificado.\n",
        "- **Exemplos:**\n",
        "  ```python\n",
        "  frase = \"Python é incrível\"\n",
        "  palavras = frase.split()\n",
        "  print(palavras)  # Saída: ['Python', 'é', 'incrível']\n",
        "\n",
        "  dados = \"maçã,banana,laranja\"\n",
        "  frutas = dados.split(\",\")\n",
        "  print(frutas)  # Saída: ['maçã', 'banana', 'laranja']\n",
        "  ```\n",
        "- **Uso:**  \n",
        "  Muito útil para processar textos, como separar palavras ou dividir dados de uma string em elementos individuais.\n",
        "\n",
        "---\n",
        "\n",
        "#### **replace()**\n",
        "- **Descrição:**  \n",
        "  Retorna uma nova string na qual todas as ocorrências de uma substring especificada são substituídas por outra.\n",
        "- **Exemplo:**\n",
        "  ```python\n",
        "  texto = \"Eu gosto de maçã. Maçã é saudável.\"\n",
        "  novo_texto = texto.replace(\"maçã\", \"banana\")\n",
        "  print(novo_texto)\n",
        "  # Saída: \"Eu gosto de banana. Banana é saudável.\"\n",
        "  ```\n",
        "- **Uso:**  \n",
        "  Usado para correções ou formatação de textos, substituindo palavras ou caracteres.\n",
        "\n",
        "---\n",
        "\n",
        "#### **count()**\n",
        "- **Descrição:**  \n",
        "  Retorna o número de vezes que uma substring aparece na string.\n",
        "- **Exemplo:**\n",
        "  ```python\n",
        "  texto = \"banana\"\n",
        "  ocorrencias = texto.count(\"an\")\n",
        "  print(ocorrencias)  # Saída: 2\n",
        "  ```\n",
        "- **Uso:**  \n",
        "  Importante para análises e estatísticas em textos, como contagem de palavras ou padrões específicos.\n",
        "\n",
        "---\n",
        "\n",
        "#### **index()**\n",
        "- **Descrição:**  \n",
        "  Retorna o índice da primeira ocorrência de uma substring na string. Se a substring não for encontrada, gera um `ValueError`.\n",
        "- **Exemplo:**\n",
        "  ```python\n",
        "  texto = \"banana\"\n",
        "  posicao = texto.index(\"na\")\n",
        "  print(posicao)  # Saída: 2\n",
        "  \n",
        "  # Exemplo de erro (descomente para testar):\n",
        "  # print(texto.index(\"z\"))\n",
        "  ```\n",
        "- **Uso:**  \n",
        "  Permite localizar a posição de um padrão dentro da string. Diferencia-se do método `find()`, que retorna -1 se não encontrar a substring, enquanto `index()` gera um erro.\n",
        "\n",
        "---\n",
        "\n",
        "#### **isalnum()**\n",
        "- **Descrição:**  \n",
        "  Retorna `True` se todos os caracteres da string forem alfanuméricos (letras ou dígitos) e a string não estiver vazia; caso contrário, retorna `False`.\n",
        "- **Exemplo:**\n",
        "  ```python\n",
        "  s1 = \"Python123\"\n",
        "  s2 = \"Python 123\"\n",
        "  print(s1.isalnum())  # Saída: True\n",
        "  print(s2.isalnum())  # Saída: False (devido ao espaço)\n",
        "  ```\n",
        "- **Uso:**  \n",
        "  Utilizado para validações de entrada, garantindo que a string não contenha símbolos ou espaços indesejados.\n",
        "\n",
        "---\n",
        "\n",
        "#### **isalpha()**\n",
        "- **Descrição:**  \n",
        "  Retorna `True` se todos os caracteres da string forem apenas letras (alfabéticos) e a string não estiver vazia; caso contrário, retorna `False`.\n",
        "- **Exemplo:**\n",
        "  ```python\n",
        "  s1 = \"Python\"\n",
        "  s2 = \"Python3\"\n",
        "  print(s1.isalpha())  # Saída: True\n",
        "  print(s2.isalpha())  # Saída: False (devido ao dígito \"3\")\n",
        "  ```\n",
        "- **Uso:**  \n",
        "  Muito útil para validação de nomes ou palavras onde números ou símbolos não são permitidos.\n",
        "\n",
        "---\n",
        "\n",
        "### Outros Métodos Úteis em Strings\n",
        "\n",
        "#### **strip()**\n",
        "- **Descrição:**  \n",
        "  Remove espaços em branco (ou outros caracteres especificados) do início e do fim da string.\n",
        "- **Exemplo:**\n",
        "  ```python\n",
        "  texto = \"  Olá, mundo!  \"\n",
        "  print(texto.strip())  # Saída: \"Olá, mundo!\"\n",
        "  ```\n",
        "\n",
        "#### **startswith() e endswith()**\n",
        "- **Descrição:**  \n",
        "  - `startswith(substring)`: Verifica se a string começa com a substring especificada.  \n",
        "  - `endswith(substring)`: Verifica se a string termina com a substring especificada.\n",
        "- **Exemplos:**\n",
        "  ```python\n",
        "  texto = \"Python é incrível\"\n",
        "  print(texto.startswith(\"Python\"))  # Saída: True\n",
        "  print(texto.endswith(\"incrível\"))    # Saída: True\n",
        "  ```\n",
        "\n",
        "#### **join()**\n",
        "- **Descrição:**  \n",
        "  Une os elementos de um iterável (por exemplo, uma lista de strings) em uma única string, utilizando a string em que o método é chamado como separador.\n",
        "- **Exemplo:**\n",
        "  ```python\n",
        "  palavras = [\"Python\", \"é\", \"incrível\"]\n",
        "  resultado = \" \".join(palavras)\n",
        "  print(resultado)  # Saída: \"Python é incrível\"\n",
        "  ```\n",
        "\n",
        "#### **find()**\n",
        "- **Descrição:**  \n",
        "  Retorna o índice da primeira ocorrência de uma substring. Se a substring não for encontrada, retorna -1, sem gerar exceção.\n",
        "- **Exemplo:**\n",
        "  ```python\n",
        "  texto = \"banana\"\n",
        "  pos = texto.find(\"na\")\n",
        "  print(pos)  # Saída: 2\n",
        "  print(texto.find(\"z\"))  # Saída: -1\n",
        "  ```\n",
        "\n",
        "#### **swapcase()**\n",
        "- **Descrição:**  \n",
        "  Retorna uma nova string onde as letras maiúsculas são convertidas para minúsculas e vice-versa.\n",
        "- **Exemplo:**\n",
        "  ```python\n",
        "  texto = \"Python\"\n",
        "  print(texto.swapcase())  # Saída: \"pYTHON\"\n",
        "  ```\n",
        "\n",
        "#### **title()**\n",
        "- **Descrição:**  \n",
        "  Retorna uma nova string onde a primeira letra de cada palavra é convertida para maiúsculo e as demais para minúsculo.\n",
        "- **Exemplo:**\n",
        "  ```python\n",
        "  texto = \"python é incrível\"\n",
        "  print(texto.title())  # Saída: \"Python É Incrível\"\n",
        "  ```\n",
        "\n",
        "---\n",
        "\n",
        "### Resumo\n",
        "\n",
        "Cada um desses métodos retorna uma nova string, mantendo a imutabilidade dos objetos string em Python. Eles são fundamentais para:\n",
        "- **Formatação:** `capitalize()`, `lower()`, `upper()`, `title()`\n",
        "- **Divisão e Junção:** `split()`, `join()`\n",
        "- **Substituição e Contagem:** `replace()`, `count()`\n",
        "- **Busca e Validação:** `index()`, `find()`, `isalnum()`, `isalpha()`\n",
        "- **Limpeza e Verificação de Início/Fim:** `strip()`, `startswith()`, `endswith()`\n",
        "\n",
        "\n",
        "- **Comparações:** Operadores relacionais com strings comparam alfabeticamente\n",
        "\n",
        "---"
      ],
      "metadata": {
        "id": "mHfENZt0sg-k"
      }
    },
    {
      "cell_type": "markdown",
      "source": [
        "**Aula 18/03**\n"
      ],
      "metadata": {
        "id": "AxB4ibQXnnBR"
      }
    },
    {
      "cell_type": "code",
      "source": [
        "dia = int(input(\"Qual é o dia de hoje? \"))\n",
        "dia_rest= 31 - dia\n",
        "print(\"Faltam\", dia_rest, \"dias para acabar o mês.\")"
      ],
      "metadata": {
        "colab": {
          "base_uri": "https://localhost:8080/"
        },
        "id": "n05nyFN8p1EQ",
        "outputId": "b1cb7929-bd55-4ac1-86c0-74f712b9f1ef"
      },
      "execution_count": null,
      "outputs": [
        {
          "output_type": "stream",
          "name": "stdout",
          "text": [
            "Qual é o dia de hoje? 2\n",
            "Faltam 29 dias para acabar o mês.\n"
          ]
        }
      ]
    },
    {
      "cell_type": "code",
      "source": [
        "dia = int(input(\"Qual é o dia de hoje? \"))\n",
        "dia_rest= 31 - dia\n",
        "print(f\"Faltam {dia_rest} dias para acabar o mês.\")"
      ],
      "metadata": {
        "colab": {
          "base_uri": "https://localhost:8080/"
        },
        "id": "FTodxeWPp7Dj",
        "outputId": "bd7a37e3-df31-44db-e71b-194410c445b8"
      },
      "execution_count": null,
      "outputs": [
        {
          "output_type": "stream",
          "name": "stdout",
          "text": [
            "Qual é o dia de hoje? 2\n",
            "Faltam 29 dias para acabar o mês.\n"
          ]
        }
      ]
    },
    {
      "cell_type": "code",
      "source": [
        "print(f\"Faltam {31 - int(input('Qual é o dia de hoje? '))} dias para acabar o mês.\")"
      ],
      "metadata": {
        "colab": {
          "base_uri": "https://localhost:8080/"
        },
        "id": "gV8y_NTQqBrx",
        "outputId": "03437682-a58d-4c1a-daed-6ccebd14e7be"
      },
      "execution_count": null,
      "outputs": [
        {
          "output_type": "stream",
          "name": "stdout",
          "text": [
            "Qual é o dia de hoje? 2\n",
            "Faltam 29 dias para acabar o mês.\n"
          ]
        }
      ]
    },
    {
      "cell_type": "code",
      "source": [
        "vetor = ['UDF']\n",
        "vetor[0:2]"
      ],
      "metadata": {
        "colab": {
          "base_uri": "https://localhost:8080/"
        },
        "id": "vVg1jeaiqMFD",
        "outputId": "08785a4b-d1cf-4f72-c2ce-29683464502d"
      },
      "execution_count": null,
      "outputs": [
        {
          "output_type": "execute_result",
          "data": {
            "text/plain": [
              "['UDF']"
            ]
          },
          "metadata": {},
          "execution_count": 5
        }
      ]
    },
    {
      "cell_type": "markdown",
      "source": [
        "**1 - Manipulação de Lista: Inversão e Ordenação**"
      ],
      "metadata": {
        "id": "x6IHd241qH-n"
      }
    },
    {
      "cell_type": "code",
      "source": [
        "lista = list(range(1, 101))\n",
        "lista.reverse()\n",
        "print(lista)"
      ],
      "metadata": {
        "colab": {
          "base_uri": "https://localhost:8080/"
        },
        "id": "tTuIT-0rqIxX",
        "outputId": "0ab07b84-c4e9-4be6-9ad2-bf1ec69452e5"
      },
      "execution_count": null,
      "outputs": [
        {
          "output_type": "stream",
          "name": "stdout",
          "text": [
            "[100, 99, 98, 97, 96, 95, 94, 93, 92, 91, 90, 89, 88, 87, 86, 85, 84, 83, 82, 81, 80, 79, 78, 77, 76, 75, 74, 73, 72, 71, 70, 69, 68, 67, 66, 65, 64, 63, 62, 61, 60, 59, 58, 57, 56, 55, 54, 53, 52, 51, 50, 49, 48, 47, 46, 45, 44, 43, 42, 41, 40, 39, 38, 37, 36, 35, 34, 33, 32, 31, 30, 29, 28, 27, 26, 25, 24, 23, 22, 21, 20, 19, 18, 17, 16, 15, 14, 13, 12, 11, 10, 9, 8, 7, 6, 5, 4, 3, 2, 1]\n"
          ]
        }
      ]
    },
    {
      "cell_type": "markdown",
      "source": [
        "**Aula 01/04/2025**"
      ],
      "metadata": {
        "id": "ptIhNaWXmpYn"
      }
    },
    {
      "cell_type": "markdown",
      "source": [
        "1) Crie um vetor de inteiros ( int ) de 10 posições. Preencha-o\n",
        "com os valores 10 , 20 , 30 , 40 , 50 , 60 , 70 , 80 , 90 e\n",
        "100 . Use um for para exibir os valores deste vetor."
      ],
      "metadata": {
        "id": "bv-wPg89z8lh"
      }
    },
    {
      "cell_type": "code",
      "execution_count": null,
      "metadata": {
        "colab": {
          "base_uri": "https://localhost:8080/"
        },
        "id": "rpfSDzjPx9Qx",
        "outputId": "811b1ea9-db0b-40c7-94ed-f89ee9ccadbc"
      },
      "outputs": [
        {
          "output_type": "stream",
          "name": "stdout",
          "text": [
            "10\n",
            "20\n",
            "30\n",
            "40\n",
            "50\n",
            "60\n",
            "70\n",
            "80\n",
            "90\n",
            "100\n"
          ]
        }
      ],
      "source": [
        "vetor = [10, 20, 30, 40, 50, 60, 70, 80, 90, 100]\n",
        "\n",
        "for elemento in vetor:\n",
        "  print(elemento)"
      ]
    },
    {
      "cell_type": "markdown",
      "source": [
        "2 - Crie uma matriz de caracteres ( char ) de 16 posições (4x4).\n",
        "Preencha-a com os valores a , b , c , d , e , f , g , h , i , j ,\n",
        "k , l , m , n , o e p . Use dois for para exibir os valores desta\n",
        "matriz."
      ],
      "metadata": {
        "id": "iNIbcj4g0tGg"
      }
    },
    {
      "cell_type": "code",
      "source": [
        "matriz = [\n",
        "    ['a', 'b', 'c', 'd'],\n",
        "    ['e', 'f', 'g', 'h'],\n",
        "    ['i', 'j', 'k', 'l'],\n",
        "    ['m', 'n', 'o', 'p']\n",
        "]\n",
        "\n",
        "for i in range(4):\n",
        "  for j in range(4):\n",
        "    print(matriz[i][j], end=' ')\n",
        "  print()"
      ],
      "metadata": {
        "colab": {
          "base_uri": "https://localhost:8080/"
        },
        "id": "oe2DR-y32Kao",
        "outputId": "7a9c0a96-82c0-4b8f-b198-b38d2d6730c2"
      },
      "execution_count": null,
      "outputs": [
        {
          "output_type": "stream",
          "name": "stdout",
          "text": [
            "a b c d \n",
            "e f g h \n",
            "i j k l \n",
            "m n o p \n"
          ]
        }
      ]
    },
    {
      "cell_type": "markdown",
      "source": [
        "3 - Faça um programa com um vetor com 10 elementos inteiros\n",
        "positivos (aleatórios e de sua escolha). Permita que seja solicitado\n",
        "um determinado valor inteiro e positivo para ser procurado neste\n",
        "vetor. Caso exista, o programa deve exibir o índice no qual o valor\n",
        "está posicionado. Caso contrário, o programa deve informar que o\n",
        "elemento não existe no vetor."
      ],
      "metadata": {
        "id": "D7Ak-r6c3Fri"
      }
    },
    {
      "cell_type": "code",
      "source": [
        "vetor = int\n",
        "vetor = [3, 7, 10, 17, 21, 28, 35, 47, 77, 91]\n",
        "\n",
        "valor = int(input(\"Digite um valor inteiro positivo para procurar no vetor:\"))\n",
        "\n",
        "if valor in vetor:\n",
        "  indice = vetor.index(valor)\n",
        "  print(f\"O valor {valor} procurado no vetor está no indice {indice}.\")\n",
        "else:\n",
        "  print(f\"O valor {valor} não existe no vetor.\")"
      ],
      "metadata": {
        "colab": {
          "base_uri": "https://localhost:8080/"
        },
        "id": "RVDaH7Kr3Isq",
        "outputId": "fe8e0fde-d01c-464a-abc5-9e0d894ebc37"
      },
      "execution_count": null,
      "outputs": [
        {
          "output_type": "stream",
          "name": "stdout",
          "text": [
            "Digite um valor inteiro positivo para procurar no vetor:7\n",
            "O valor 7 procurado no vetor está no indice 1.\n"
          ]
        }
      ]
    },
    {
      "cell_type": "markdown",
      "source": [
        "4 - Faça um programa com uma matriz com 9 elementos (3x3) reais positivos (aleatórios e de sua escolha). Calcule e exiba a soma\n",
        "dos elementos de cada linha desta matriz."
      ],
      "metadata": {
        "id": "pG5nRrzT4-l5"
      }
    },
    {
      "cell_type": "code",
      "source": [
        "matriz = [1, 2, 3, 4, 5, 6, 7, 8, 9]\n",
        "matriz = [matriz[i:i+3] for i in range(0, 9, 3)]\n",
        "\n",
        "print(\"Matriz:\")\n",
        "for linha in matriz:\n",
        "  print(linha)\n",
        "\n",
        "print(\"\\n Soma dos elementos de cada linha:\")\n",
        "for i, linha in enumerate(matriz):\n",
        "  soma = sum(linha)\n",
        "  print(f\"Soma da linha {i + i}: {soma:.2f}\")"
      ],
      "metadata": {
        "colab": {
          "base_uri": "https://localhost:8080/"
        },
        "id": "yQ7SYJW_5R7E",
        "outputId": "e78d01d3-0b9d-465d-9f8a-345cbd4a1412"
      },
      "execution_count": null,
      "outputs": [
        {
          "output_type": "stream",
          "name": "stdout",
          "text": [
            "Matriz:\n",
            "[1, 2, 3]\n",
            "[4, 5, 6]\n",
            "[7, 8, 9]\n",
            "\n",
            " Soma dos elementos de cada linha:\n",
            "Soma da linha 0: 6.00\n",
            "Soma da linha 2: 15.00\n",
            "Soma da linha 4: 24.00\n"
          ]
        }
      ]
    },
    {
      "cell_type": "markdown",
      "source": [
        "5) Faça um programa com uma matriz 5x5 de inteiros\n",
        "positivos ou negativos (aleatórios e de sua escolha) e encontre e\n",
        "exiba o maior elemento desta matriz."
      ],
      "metadata": {
        "id": "a8X81PY368KA"
      }
    },
    {
      "cell_type": "code",
      "source": [
        "matriz = [\n",
        "    [1, 2, 3, 4, 5],\n",
        "    [6, 7, 8, 9, 10],\n",
        "    [11, 12, 13, 14, 15],\n",
        "    [16, 17, 18, 19, 20],\n",
        "    [21, 22, 23, 24, 25]\n",
        "]\n",
        "\n",
        "\n",
        "print(\"Matriz 5x5:\")\n",
        "for linha in matriz:\n",
        "    print(linha)\n",
        "\n",
        "\n",
        "maior_elemento = matriz[0][0]\n",
        "\n",
        "\n",
        "for linha in matriz:\n",
        "    for elemento in linha:\n",
        "        if elemento > maior_elemento:\n",
        "            maior_elemento = elemento\n",
        "\n",
        "\n",
        "print(f\"\\nO maior elemento da matriz é: {maior_elemento}\")"
      ],
      "metadata": {
        "colab": {
          "base_uri": "https://localhost:8080/"
        },
        "id": "DUpfk0Ea7AkA",
        "outputId": "8a5070a1-49a9-476a-c9bc-ff2ea384dfa9"
      },
      "execution_count": null,
      "outputs": [
        {
          "output_type": "stream",
          "name": "stdout",
          "text": [
            "Matriz 5x5:\n",
            "[1, 2, 3, 4, 5]\n",
            "[6, 7, 8, 9, 10]\n",
            "[11, 12, 13, 14, 15]\n",
            "[16, 17, 18, 19, 20]\n",
            "[21, 22, 23, 24, 25]\n",
            "\n",
            "O maior elemento da matriz é: 25\n"
          ]
        }
      ]
    },
    {
      "cell_type": "markdown",
      "source": [
        "**Aula 08/04/2025**"
      ],
      "metadata": {
        "id": "0Y9XYUUZ2RFl"
      }
    },
    {
      "cell_type": "markdown",
      "source": [
        "**1. Implementação de Lista Encadeada para Gerenciamento de Tarefas**"
      ],
      "metadata": {
        "id": "DWlYQb3-ldJA"
      }
    },
    {
      "cell_type": "code",
      "source": [
        "class Tarefa:\n",
        "  def __init__(self, nome):\n",
        "    self.nome = nome\n",
        "    self.proxima = None\n",
        "\n",
        "class ListaEncadeada:\n",
        "  def __init__(self):\n",
        "    self.head = None\n",
        "\n",
        "  def adicionar_tarefa(self, nome):\n",
        "    nova_tarefa = Tarefa(nome)\n",
        "    nova_tarefa.proxima = self.head\n",
        "    self.head = nova_tarefa\n",
        "\n",
        "  def remover_tarefa(self, nome):\n",
        "    atual = self.head\n",
        "    anterior = None\n",
        "    while atual and atual.nome != nome:\n",
        "        anterior = atual\n",
        "        atual = atual.proxima\n",
        "    if atual:\n",
        "        if anterior:\n",
        "            anterior.proxima = atual.proxima\n",
        "        else:\n",
        "            self.head = atual.proxima\n",
        "\n",
        "  def mostrar_tarefas(self):\n",
        "    atual = self.head\n",
        "    while atual:\n",
        "      print(atual.nome)\n",
        "      atual = atual.proxima\n",
        "\n",
        "\n",
        "# Exemplo de uso\n",
        "lista_tarefas = ListaEncadeada()\n",
        "lista_tarefas.adicionar_tarefa(\"Estudar Estruturas de Dados\")\n",
        "lista_tarefas.adicionar_tarefa(\"Revisar Código\")\n",
        "print(\"Tarefas iniciais:\")\n",
        "lista_tarefas.mostrar_tarefas()\n",
        "lista_tarefas.remover_tarefa(\"Revisar Código\")\n",
        "print(\"\\nTarefas após remover 'Revisar Código':\")\n",
        "lista_tarefas.mostrar_tarefas()"
      ],
      "metadata": {
        "colab": {
          "base_uri": "https://localhost:8080/"
        },
        "id": "Lu5Y9bOw2VhQ",
        "outputId": "9f4e5a04-6f02-4693-c0cb-cf00b002e59d"
      },
      "execution_count": null,
      "outputs": [
        {
          "output_type": "stream",
          "name": "stdout",
          "text": [
            "Tarefas iniciais:\n",
            "Revisar Código\n",
            "Estudar Estruturas de Dados\n",
            "\n",
            "Tarefas após remover 'Revisar Código':\n",
            "Estudar Estruturas de Dados\n"
          ]
        }
      ]
    },
    {
      "cell_type": "markdown",
      "source": [
        "**2. Agenda Telefônica com Lista Duplamente Encadeada**"
      ],
      "metadata": {
        "id": "9cKXZdF5lXhf"
      }
    },
    {
      "cell_type": "code",
      "source": [
        "class Contato:\n",
        "    def __init__(self, nome, telefone):\n",
        "        self.nome = nome\n",
        "        self.telefone = telefone\n",
        "        self.anterior = None\n",
        "        self.proximo = None\n",
        "\n",
        "class ListaDuplamenteEncadeada:\n",
        "    def __init__(self):\n",
        "        self.head = None\n",
        "\n",
        "    def adicionar_contato(self, nome, telefone):\n",
        "        novo_contato = Contato(nome, telefone)\n",
        "        novo_contato.proximo = self.head\n",
        "        if self.head:\n",
        "            self.head.anterior = novo_contato\n",
        "        self.head = novo_contato\n",
        "\n",
        "    def remover_contato(self, nome):\n",
        "        atual = self.head\n",
        "        while atual and atual.nome != nome:\n",
        "            atual = atual.proximo\n",
        "        if atual:\n",
        "            if atual.anterior:\n",
        "                atual.anterior.proximo = atual.proximo\n",
        "            if atual.proximo:\n",
        "                atual.proximo.anterior = atual.anterior\n",
        "            if atual == self.head:  # Se o contato a ser removido é o head\n",
        "                self.head = atual.proximo\n",
        "\n",
        "    def buscar_contato(self, nome):\n",
        "        atual = self.head\n",
        "        while atual:\n",
        "            if atual.nome == nome:\n",
        "                return f\"Contato encontrado: {atual.nome} - {atual.telefone}\"\n",
        "            atual = atual.proximo\n",
        "        return \"Contato não encontrado\"\n",
        "\n",
        "# Exemplo de uso\n",
        "agenda = ListaDuplamenteEncadeada()\n",
        "agenda.adicionar_contato(\"Alice\", \"123456789\")\n",
        "agenda.adicionar_contato(\"Bob\", \"987654321\")\n",
        "print(agenda.buscar_contato(\"Bob\"))  # Saída: Contato encontrado: Bob - 987654321\n",
        "agenda.remover_contato(\"Alice\")\n",
        "print(agenda.buscar_contato(\"Alice\"))  # Saída: Contato não encontrado"
      ],
      "metadata": {
        "colab": {
          "base_uri": "https://localhost:8080/"
        },
        "id": "75cptU25lRRX",
        "outputId": "b5d63005-7179-40e5-dcc7-d5289e535b31"
      },
      "execution_count": null,
      "outputs": [
        {
          "output_type": "stream",
          "name": "stdout",
          "text": [
            "Contato encontrado: Bob - 987654321\n",
            "Contato não encontrado\n"
          ]
        }
      ]
    },
    {
      "cell_type": "markdown",
      "source": [
        "**3. Controle de Histórico de Navegação**"
      ],
      "metadata": {
        "id": "G0JZJQAUli4g"
      }
    },
    {
      "cell_type": "code",
      "source": [
        "class Pagina:\n",
        "    def __init__(self, url):\n",
        "        self.url = url\n",
        "        self.anterior = None\n",
        "        self.proximo = None\n",
        "\n",
        "class HistoricoNavegacao:\n",
        "    def __init__(self):\n",
        "        self.atual = None\n",
        "\n",
        "    def visitar_pagina(self, url):\n",
        "        nova_pagina = Pagina(url)\n",
        "        if self.atual:\n",
        "            self.atual.proximo = nova_pagina\n",
        "            nova_pagina.anterior = self.atual\n",
        "        self.atual = nova_pagina\n",
        "        print(f\"Visitando: {self.atual.url}\")\n",
        "\n",
        "    def voltar(self):\n",
        "        if self.atual and self.atual.anterior:\n",
        "            self.atual = self.atual.anterior\n",
        "            print(f\"Voltando para: {self.atual.url}\")\n",
        "            return self.atual.url\n",
        "        else:\n",
        "            print(\"Não há página anterior.\")\n",
        "            return None\n",
        "\n",
        "    def avancar(self):\n",
        "        if self.atual and self.atual.proximo:\n",
        "            self.atual = self.atual.proximo\n",
        "            print(f\"Avançando para: {self.atual.url}\")\n",
        "            return self.atual.url\n",
        "        else:\n",
        "            print(\"Não há página seguinte.\")\n",
        "            return None\n",
        "\n",
        "# Exemplo de uso\n",
        "historico = HistoricoNavegacao()\n",
        "historico.visitar_pagina(\"www.exemplo.com\")\n",
        "historico.visitar_pagina(\"www.python.org\")\n",
        "historico.visitar_pagina(\"www.google.com\")\n",
        "historico.voltar()      # Deve voltar para www.python.org\n",
        "historico.avancar()     # Deve avançar para www.google.com\n",
        "historico.voltar()      # Deve voltar para www.python.org\n",
        "historico.voltar()      # Deve voltar para www.exemplo.com\n",
        "historico.voltar()      # Não há página anterior\n",
        "historico.avancar()     # Deve avançar para www.python.org"
      ],
      "metadata": {
        "colab": {
          "base_uri": "https://localhost:8080/",
          "height": 192
        },
        "id": "y5HQGKQalleP",
        "outputId": "2b95ceeb-bb53-4538-f473-3c55b2fb2555"
      },
      "execution_count": null,
      "outputs": [
        {
          "output_type": "stream",
          "name": "stdout",
          "text": [
            "Visitando: www.exemplo.com\n",
            "Visitando: www.python.org\n",
            "Visitando: www.google.com\n",
            "Voltando para: www.python.org\n",
            "Avançando para: www.google.com\n",
            "Voltando para: www.python.org\n",
            "Voltando para: www.exemplo.com\n",
            "Não há página anterior.\n",
            "Avançando para: www.python.org\n"
          ]
        },
        {
          "output_type": "execute_result",
          "data": {
            "text/plain": [
              "'www.python.org'"
            ],
            "application/vnd.google.colaboratory.intrinsic+json": {
              "type": "string"
            }
          },
          "metadata": {},
          "execution_count": 2
        }
      ]
    },
    {
      "cell_type": "markdown",
      "source": [
        "**4. Sistema de Impressão de Documentos**"
      ],
      "metadata": {
        "id": "R0GqHE_LlxSG"
      }
    },
    {
      "cell_type": "code",
      "source": [
        "class Documento:\n",
        "    def __init__(self, nome):\n",
        "        self.nome = nome\n",
        "        self.proximo = None\n",
        "\n",
        "class FilaImpressao:\n",
        "    def __init__(self):\n",
        "        self.head = None\n",
        "        self.tail = None\n",
        "\n",
        "    def adicionar_documento(self, nome):\n",
        "        novo_documento = Documento(nome)\n",
        "        if not self.head:\n",
        "            self.head = novo_documento\n",
        "            self.tail = novo_documento\n",
        "        else:\n",
        "            self.tail.proximo = novo_documento\n",
        "            self.tail = novo_documento\n",
        "        print(f\"Documento '{nome}' adicionado à fila.\")\n",
        "\n",
        "    def imprimir_documento(self):\n",
        "        if self.head:\n",
        "            documento_impresso = self.head.nome\n",
        "            self.head = self.head.proximo\n",
        "            if not self.head:\n",
        "                self.tail = None\n",
        "            print(f\"Imprimindo documento: {documento_impresso}\")\n",
        "            return documento_impresso\n",
        "        else:\n",
        "            print(\"A fila de impressão está vazia.\")\n",
        "            return None\n",
        "\n",
        "    def mostrar_fila(self):\n",
        "        atual = self.head\n",
        "        if not atual:\n",
        "            print(\"A fila de impressão está vazia.\")\n",
        "            return\n",
        "        print(\"Fila de impressão:\")\n",
        "        while atual:\n",
        "            print(f\"- {atual.nome}\")\n",
        "            atual = atual.proximo\n",
        "\n",
        "# Exemplo de uso\n",
        "fila = FilaImpressao()\n",
        "fila.adicionar_documento(\"Relatório Financeiro\")\n",
        "fila.adicionar_documento(\"Apresentação de Vendas\")\n",
        "fila.adicionar_documento(\"Contrato\")\n",
        "fila.mostrar_fila()\n",
        "fila.imprimir_documento()\n",
        "fila.mostrar_fila()\n",
        "fila.imprimir_documento()\n",
        "fila.imprimir_documento()\n",
        "fila.imprimir_documento()"
      ],
      "metadata": {
        "colab": {
          "base_uri": "https://localhost:8080/"
        },
        "id": "62FPyLs2l0NW",
        "outputId": "6400d89a-e138-4af3-a79b-64361dcc8d5c"
      },
      "execution_count": null,
      "outputs": [
        {
          "output_type": "stream",
          "name": "stdout",
          "text": [
            "Documento 'Relatório Financeiro' adicionado à fila.\n",
            "Documento 'Apresentação de Vendas' adicionado à fila.\n",
            "Documento 'Contrato' adicionado à fila.\n",
            "Fila de impressão:\n",
            "- Relatório Financeiro\n",
            "- Apresentação de Vendas\n",
            "- Contrato\n",
            "Imprimindo documento: Relatório Financeiro\n",
            "Fila de impressão:\n",
            "- Apresentação de Vendas\n",
            "- Contrato\n",
            "Imprimindo documento: Apresentação de Vendas\n",
            "Imprimindo documento: Contrato\n",
            "A fila de impressão está vazia.\n"
          ]
        }
      ]
    },
    {
      "cell_type": "markdown",
      "source": [
        "**5. Autocomplete em Buscas**"
      ],
      "metadata": {
        "id": "vg3ez7dGmEfa"
      }
    },
    {
      "cell_type": "code",
      "source": [
        "class Node:\n",
        "    def __init__(self, data):\n",
        "        self.data = data\n",
        "        self.proximo = None\n",
        "\n",
        "class ListaEncadeadaAutocomplete:\n",
        "    def __init__(self):\n",
        "        self.head = None\n",
        "\n",
        "    def adicionar_palavra(self, palavra):\n",
        "        novo_node = Node(palavra)\n",
        "        if not self.head:\n",
        "            self.head = novo_node\n",
        "        else:\n",
        "            atual = self.head\n",
        "            while atual.proximo:\n",
        "                atual = atual.proximo\n",
        "            atual.proximo = novo_node\n",
        "\n",
        "    def sugerir_palavras(self, prefixo):\n",
        "        sugestoes = []\n",
        "        atual = self.head\n",
        "        while atual:\n",
        "            if atual.data.startswith(prefixo):\n",
        "                sugestoes.append(atual.data)\n",
        "            atual = atual.proximo\n",
        "        return sugestoes\n",
        "\n",
        "# Exemplo de uso\n",
        "autocomplete = ListaEncadeadaAutocomplete()\n",
        "autocomplete.adicionar_palavra(\"apple\")\n",
        "autocomplete.adicionar_palavra(\"apricot\")\n",
        "autocomplete.adicionar_palavra(\"banana\")\n",
        "autocomplete.adicionar_palavra(\"grape\")\n",
        "autocomplete.adicionar_palavra(\"application\")\n",
        "\n",
        "print(f\"Sugestões para 'ap': {autocomplete.sugerir_palavras('ap')}\")\n",
        "print(f\"Sugestões para 'ba': {autocomplete.sugerir_palavras('ba')}\")\n",
        "print(f\"Sugestões para 'g': {autocomplete.sugerir_palavras('g')}\")\n",
        "print(f\"Sugestões para 'or': {autocomplete.sugerir_palavras('or')}\")"
      ],
      "metadata": {
        "colab": {
          "base_uri": "https://localhost:8080/"
        },
        "id": "wMJHfZr_mI8C",
        "outputId": "069abc67-ba4b-433f-fd87-6902e5d8934d"
      },
      "execution_count": null,
      "outputs": [
        {
          "output_type": "stream",
          "name": "stdout",
          "text": [
            "Sugestões para 'ap': ['apple', 'apricot', 'application']\n",
            "Sugestões para 'ba': ['banana']\n",
            "Sugestões para 'g': ['grape']\n",
            "Sugestões para 'or': []\n"
          ]
        }
      ]
    },
    {
      "cell_type": "markdown",
      "source": [
        "**Aula 15/04/2025 - Revisão**\n",
        "\n",
        "**Prova - 3 Problemas: Fila, Pilha e Lista Encadeada**"
      ],
      "metadata": {
        "id": "LbphsAACmbZB"
      }
    },
    {
      "cell_type": "code",
      "source": [
        "#Passo 1: Criando uma lista vazia para armazenar os Ids das naves  alienigenas\n",
        "naves_alienigenas = []\n",
        "\n",
        "#Passo 2: Adicionando Ids das naves detectadas\n",
        "naves_alienigenas.append(\"NaveAlfa01\")\n",
        "naves_alienigenas.append(\"NaveAlfa02\")\n",
        "naves_alienigenas.append(\"NaveAlfa03\")\n",
        "print(f\"Naves alienigenas detectadas: {naves_alienigenas}\")\n",
        "\n",
        "#Passo 3: Acessando o ID da primeira nave detectada\n",
        "primeira_nave = naves_alienigenas[0]\n",
        "print(f\"A primeira nave a chegar foi: {primeira_nave}\")\n",
        "\n",
        "#Passo 4: Modificando o ID de uma nave (correção)\n",
        "naves_alienigenas[1] = \"NaveAlfa05\"\n",
        "print(f\"Lista de naves atualizada: {naves_alienigenas}\")\n",
        "\n",
        "#Passo 5: Removendo uma nave que deixou a órbita\n",
        "naves_alienigenas.remove(\"NaveAlfa01\")\n",
        "print(f\"Naves restantes: {naves_alienigenas}\")\n",
        "\n",
        "#Passo 6: Verificando quantas naves ainda estão presentes\n",
        "total_naves = len(naves_alienigenas)\n",
        "print(f\"Número total de naves na órbita: {total_naves}\")"
      ],
      "metadata": {
        "colab": {
          "base_uri": "https://localhost:8080/"
        },
        "id": "PnQvEvl6m7HI",
        "outputId": "d1a0d486-68ae-45a5-dbe9-85c35485a6fe"
      },
      "execution_count": null,
      "outputs": [
        {
          "output_type": "stream",
          "name": "stdout",
          "text": [
            "Naves alienigenas detectadas: ['NaveAlfa01', 'NaveAlfa02', 'NaveAlfa03']\n",
            "A primeira nave a chegar foi: NaveAlfa01\n",
            "Lista de naves atualizada: ['NaveAlfa01', 'NaveAlfa05', 'NaveAlfa03']\n",
            "Naves restantes: ['NaveAlfa05', 'NaveAlfa03']\n",
            "Número total de naves na órbita: 2\n"
          ]
        }
      ]
    },
    {
      "cell_type": "code",
      "source": [
        "from collections import deque\n",
        "\n",
        "#Passo 1: Criando uma fila vazia para as tarefas da expedição\n",
        "fila_de_tarefas = deque()\n",
        "\n",
        "#Passo 2: Adicionando tarefas à fila (enqueue)\n",
        "fila_de_tarefas.append(\"Verificar painéis solares\")\n",
        "fila_de_tarefas.append(\"Realizar experimento de gravidade\")\n",
        "fila_de_tarefas.append(\"Comunicar com a base terrestre\")\n",
        "print(f\"Fila de tarefas da expedição: {fila_de_tarefas}\")\n",
        "\n",
        "#Passo 3: Executando a próxima tarefa na fila (dequeue)\n",
        "proxima_tarefa = fila_de_tarefas.popleft()\n",
        "print(f\"Próxima tarefa a ser executada: {proxima_tarefa}\")\n",
        "print(f\"Fila de tarefas restantes: {fila_de_tarefas}\")\n",
        "\n",
        "#Passo 4: Verificando o tamanho da fila\n",
        "total_tarefas_restantes = len(fila_de_tarefas)\n",
        "print(\"Número de tarefas restantes: \", total_tarefas_restantes)\n",
        "\n",
        "#Passo 5: Verificando se a fila está vazia\n",
        "if not fila_de_tarefas:\n",
        "  print(\"Todas as tarefas foram concluídas!\")\n",
        "else:\n",
        "  print(\"Ainda há tarefas pendentes.\")"
      ],
      "metadata": {
        "colab": {
          "base_uri": "https://localhost:8080/"
        },
        "id": "7IdjqAXQtLwR",
        "outputId": "4d275071-f053-48af-9af3-3ae66e1921ad"
      },
      "execution_count": null,
      "outputs": [
        {
          "output_type": "stream",
          "name": "stdout",
          "text": [
            "Fila de tarefas da expedição: deque(['Verificar painéis solares', 'Realizar experimento de gravidade', 'Comunicar com a base terrestre'])\n",
            "Próxima tarefa a ser executada: Verificar painéis solares\n",
            "Fila de tarefas restantes: deque(['Realizar experimento de gravidade', 'Comunicar com a base terrestre'])\n",
            "Número de tarefas restantes:  2\n",
            "Ainda há tarefas pendentes.\n"
          ]
        }
      ]
    },
    {
      "cell_type": "markdown",
      "source": [
        "**Filas de espera em um sistiema de atendimento ao cliente alienigena.**"
      ],
      "metadata": {
        "id": "hFWxGJXpvN0i"
      }
    },
    {
      "cell_type": "code",
      "source": [
        "fila_de_atendimento = deque()\n",
        "fila_de_atendimento.append(\"Zorg\")\n",
        "fila_de_atendimento.append(\"Grinch\")\n",
        "fila_de_atendimento.append(\"Floopy\")\n",
        "\n",
        "print(f\"Fila de atendimento alienígena: {fila_de_atendimento}\")\n",
        "\n",
        "proximo_alienigena = fila_de_atendimento.popleft()\n",
        "print(f\"Atendendo o alienígena: {proximo_alienigena}\")\n",
        "print(f\"Alienígenas restantes: {fila_de_atendimento}\")"
      ],
      "metadata": {
        "colab": {
          "base_uri": "https://localhost:8080/"
        },
        "id": "-YqSnKHFu9Xa",
        "outputId": "905a970d-f2d2-4536-f19f-e4c637087306"
      },
      "execution_count": null,
      "outputs": [
        {
          "output_type": "stream",
          "name": "stdout",
          "text": [
            "Fila de atendimento alienígena: deque(['Zorg', 'Grinch', 'Floopy'])\n",
            "Atendendo o alienígena: Zorg\n",
            "Alienígenas restantes: deque(['Grinch', 'Floopy'])\n"
          ]
        }
      ]
    },
    {
      "cell_type": "code",
      "source": [
        "#Passo 1: Criando uma pilha vazia para as amostras coletadas\n",
        "pilha_amostras = []\n",
        "\n",
        "#Passo 2: Adicionando  amostras a pilha (push)\n",
        "pilha_amostras.append(\"Amostra1\")\n",
        "pilha_amostras.append(\"Amostra2\")\n",
        "pilha_amostras.append(\"Amostra3\")\n",
        "print(f\"Pilha de amostras coletadas: {pilha_amostras}\")\n",
        "\n",
        "#Passo 3: Analisando a ultima amostra coletada\n",
        "ultima_amostra = pilha_amostras.pop()\n",
        "print(f\"Analisando a amostra: {ultima_amostra}\")\n",
        "print(f\"Pilha de amostras restantes:  {pilha_amostras}\")\n",
        "\n",
        "#Passo 4: Verificando o tamanho da pilha\n",
        "total_amostras = len(pilha_amostras)\n",
        "print(f\"Número de amostras restantes: {total_amostras}\")\n",
        "\n",
        "#Passo 5: Verificando se a pilha está vazia\n",
        "if not pilha_amostras:\n",
        "  print(\"Todas as amostras foram analisadas.\")\n",
        "else:\n",
        "  print(\"Amostras para analisar.\")"
      ],
      "metadata": {
        "colab": {
          "base_uri": "https://localhost:8080/"
        },
        "id": "duJTezGnw8tb",
        "outputId": "d6cb39b8-f140-40c1-8abc-d0601fa9a001"
      },
      "execution_count": null,
      "outputs": [
        {
          "output_type": "stream",
          "name": "stdout",
          "text": [
            "Pilha de amostras coletadas: ['Amostra1', 'Amostra2', 'Amostra3']\n",
            "Analisando a amostra: Amostra3\n",
            "Pilha de amostras restantes:  ['Amostra1', 'Amostra2']\n",
            "Número de amostras restantes: 2\n",
            "Amostras para analisar.\n"
          ]
        }
      ]
    },
    {
      "cell_type": "code",
      "source": [
        "reculos = []\n",
        "reculos.append(\"Reculo01\")\n",
        "reculos.append(\"Reculo02\")\n",
        "reculos.append(\"Reculo03\")\n",
        "\n",
        "print(f\"Reculos detectados: {reculos}\")\n",
        "\n",
        "ultimos_reculos = reculos.pop()\n",
        "print(f\"Monitorando novamente a nave: {ultimos_reculos}\")\n",
        "print(f\"Recuos ainda a serem analisados: {reculos}\")"
      ],
      "metadata": {
        "colab": {
          "base_uri": "https://localhost:8080/"
        },
        "id": "YmnXrL_QzPhR",
        "outputId": "2b1d4235-7c3f-4a54-9977-71f6eecacbfc"
      },
      "execution_count": null,
      "outputs": [
        {
          "output_type": "stream",
          "name": "stdout",
          "text": [
            "Reculos detectados: ['Reculo01', 'Reculo02', 'Reculo03']\n",
            "Monitorando novamente a nave: Reculo03\n",
            "Recuos ainda a serem analisados: ['Reculo01', 'Reculo02']\n"
          ]
        }
      ]
    },
    {
      "cell_type": "markdown",
      "source": [
        "**Tarefa 1:** Usando uma lista, inverta a ordem dos IDs das naves alienígenas."
      ],
      "metadata": {
        "id": "WYaDJX9xB0cX"
      }
    },
    {
      "cell_type": "code",
      "source": [
        "#Passo 1: Criando uma lista vazia para armazenar os Ids das naves  alienigenas\n",
        "naves_alienigenas = []\n",
        "\n",
        "#Passo 2: Adicionando Ids das naves detectadas\n",
        "naves_alienigenas.append(\"NaveAlfa01\")\n",
        "naves_alienigenas.append(\"NaveAlfa02\")\n",
        "naves_alienigenas.append(\"NaveAlfa03\")\n",
        "print(f\"Naves alienigenas detectadas: {naves_alienigenas}\")\n",
        "\n",
        "#Passo 3: Acessando o ID da primeira nave detectada\n",
        "primeira_nave = naves_alienigenas[0]\n",
        "print(f\"A primeira nave a chegar foi: {primeira_nave}\")\n",
        "\n",
        "#Passo 4: Modificando o ID de uma nave (correção)\n",
        "naves_alienigenas[1] = \"NaveAlfa05\"\n",
        "print(f\"Lista de naves atualizada: {naves_alienigenas}\")\n",
        "\n",
        "#Passo 5: Removendo uma nave que deixou a órbita\n",
        "naves_alienigenas.remove(\"NaveAlfa01\")\n",
        "print(f\"Naves restantes: {naves_alienigenas}\")\n",
        "\n",
        "#Passo 6: Verificando quantas naves ainda estão presentes\n",
        "total_naves = len(naves_alienigenas)\n",
        "print(f\"Número total de naves na órbita: {total_naves}\")\n",
        "\n",
        "naves_alienigenas.reverse()\n",
        "print(naves_alienigenas)"
      ],
      "metadata": {
        "id": "ZcIe_Hyq7O4M",
        "colab": {
          "base_uri": "https://localhost:8080/"
        },
        "outputId": "9e7b26be-7c73-4e2c-8c63-3f78e1a7c51b"
      },
      "execution_count": null,
      "outputs": [
        {
          "output_type": "stream",
          "name": "stdout",
          "text": [
            "Naves alienigenas detectadas: ['NaveAlfa01', 'NaveAlfa02', 'NaveAlfa03']\n",
            "A primeira nave a chegar foi: NaveAlfa01\n",
            "Lista de naves atualizada: ['NaveAlfa01', 'NaveAlfa05', 'NaveAlfa03']\n",
            "Naves restantes: ['NaveAlfa05', 'NaveAlfa03']\n",
            "Número total de naves na órbita: 2\n",
            "['NaveAlfa03', 'NaveAlfa05']\n"
          ]
        }
      ]
    },
    {
      "cell_type": "markdown",
      "source": [
        "**Tarefa 2:** Simule uma fila de prioridade para as tarefas da expedição espacial (dica: pode envolver\n",
        "ordenação ou múltiplas filas)."
      ],
      "metadata": {
        "id": "ZP1gBIPICB2B"
      }
    },
    {
      "cell_type": "code",
      "source": [
        "from queue import PriorityQueue\n",
        "\n",
        "# Criando a fila de prioridade\n",
        "fila_prioridade = PriorityQueue()\n",
        "\n",
        "# Adicionando tarefas com prioridades\n",
        "fila_prioridade.put((2, \"Preparar a nave\"))\n",
        "fila_prioridade.put((1, \"Lançar a nave\"))\n",
        "fila_prioridade.put((3, \"Coletar dados\"))\n",
        "\n",
        "# Processando as tarefas\n",
        "while not fila_prioridade.empty():\n",
        "    prioridade, tarefa = fila_prioridade.get()\n",
        "    print(f\"Processando tarefa: {tarefa} com prioridade: {prioridade}\")"
      ],
      "metadata": {
        "colab": {
          "base_uri": "https://localhost:8080/"
        },
        "id": "gO5EiODKCpTX",
        "outputId": "5a28b6ef-f97c-4b87-9017-a6fc6d47d912"
      },
      "execution_count": null,
      "outputs": [
        {
          "output_type": "stream",
          "name": "stdout",
          "text": [
            "Processando tarefa: Lançar a nave com prioridade: 1\n",
            "Processando tarefa: Preparar a nave com prioridade: 2\n",
            "Processando tarefa: Coletar dados com prioridade: 3\n"
          ]
        }
      ]
    },
    {
      "cell_type": "markdown",
      "source": [
        "**Tarefa 3:** Use uma pilha para verificar se uma sequência de parênteses em um código alienígena\n",
        "está balanceada."
      ],
      "metadata": {
        "id": "K-erD6jLCrC6"
      }
    },
    {
      "cell_type": "code",
      "source": [
        "def verificar_parenteses_balanceados(codigo):\n",
        "    # Criando uma pilha para armazenar os parênteses de abertura\n",
        "    pilha = []\n",
        "\n",
        "    # Dicionário para mapear parênteses de fechamento aos de abertura\n",
        "    pares = {')': '(', '}': '{', ']': '['}\n",
        "\n",
        "    # Iterando sobre cada caractere no código\n",
        "    for char in codigo:\n",
        "        # Se o caractere for um parêntese de abertura, empilhe-o\n",
        "        if char in pares.values():\n",
        "            pilha.append(char)\n",
        "        # Se o caractere for um parêntese de fechamento\n",
        "        elif char in pares.keys():\n",
        "            # Verifica se a pilha está vazia ou se o topo da pilha não corresponde\n",
        "            if not pilha or pilha[-1] != pares[char]:\n",
        "                return False\n",
        "            # Desempilha o parêntese de abertura correspondente\n",
        "            pilha.pop()\n",
        "\n",
        "    # Se a pilha estiver vazia, os parênteses estão balanceados\n",
        "    return len(pilha) == 0\n",
        "\n",
        "# Exemplo de uso\n",
        "codigo_alienigena = \"{[()]}()\"\n",
        "if verificar_parenteses_balanceados(codigo_alienigena):\n",
        "    print(\"A sequência de parênteses está balanceada.\")\n",
        "else:\n",
        "    print(\"A sequência de parênteses não está balanceada.\")"
      ],
      "metadata": {
        "colab": {
          "base_uri": "https://localhost:8080/"
        },
        "id": "a4kTHeTOCxN1",
        "outputId": "e7208287-3af5-4cc7-8764-32a37860db7a"
      },
      "execution_count": null,
      "outputs": [
        {
          "output_type": "stream",
          "name": "stdout",
          "text": [
            "A sequência de parênteses está balanceada.\n"
          ]
        }
      ]
    },
    {
      "cell_type": "markdown",
      "source": [
        "**TAREFA PARA CASA**"
      ],
      "metadata": {
        "id": "GiN9CuLGt8zA"
      }
    },
    {
      "cell_type": "markdown",
      "source": [
        "**Tarefa 1**"
      ],
      "metadata": {
        "id": "sosqVlxYuOcB"
      }
    },
    {
      "cell_type": "code",
      "source": [
        "#Passo 1: Criando uma lista vazia\n",
        "catalogo_magico = []\n",
        "\n",
        "#Passo 2: Criando uma função para adicionar livros a lista\n",
        "def adicionar_livro(catalogo, livro):\n",
        "  catalogo.append(livro)\n",
        "\n",
        "#Passo 3: Adicionando livros a lista\n",
        "adicionar_livro(catalogo_magico, \"O Feitiço da Lua Crescente\")\n",
        "adicionar_livro(catalogo_magico, \"A Jornada do Unicórnio Perdido\")\n",
        "adicionar_livro(catalogo_magico, \"Segredos da Floresta Encantada\")\n",
        "print(f\"Catalogo mágico: {catalogo_magico}\")\n",
        "\n",
        "#Passo 4: Criando uma função para acessar um certo indice da lista\n",
        "def buscar_livro(catalogo, indice):\n",
        "  return catalogo[indice]\n",
        "\n",
        "#Passo 5: Acessando livro na posição 1 da lista\n",
        "livro_encontrado = buscar_livro(catalogo_magico, 0)\n",
        "print(\"Livro encontrado na posição 1:\", livro_encontrado)\n",
        "\n",
        "#Passo 6: Removendo livro devolvido do catalogo\n",
        "catalogo_magico.pop(1)\n",
        "print(f\"Catalogo mágico: {catalogo_magico}\")\n",
        "\n",
        "#Passo 7: Criando uma função para verificar se tal livro está disponivel\n",
        "def verificar_livro(catalogo, livro):\n",
        "  return livro in catalogo\n",
        "\n",
        "#Passo 8: Verificando se certo livro está disponivel\n",
        "verificar = verificar_livro(catalogo_magico, \"Segredos da Floresta Encantada\")\n",
        "print(f\"O livro 'Segredos da Floresta Encantada' está no catalogo?\", verificar)"
      ],
      "metadata": {
        "colab": {
          "base_uri": "https://localhost:8080/"
        },
        "id": "DKVqq583hx7d",
        "outputId": "4e063385-a007-4fe0-9d00-e62a23878e59"
      },
      "execution_count": null,
      "outputs": [
        {
          "output_type": "stream",
          "name": "stdout",
          "text": [
            "Catalogo mágico: ['O Feitiço da Lua Crescente', 'A Jornada do Unicórnio Perdido', 'Segredos da Floresta Encantada']\n",
            "Livro encontrado na posição 1: O Feitiço da Lua Crescente\n",
            "Catalogo mágico: ['O Feitiço da Lua Crescente', 'Segredos da Floresta Encantada']\n",
            "O livro 'Segredos da Floresta Encantada' está no catalogo? True\n"
          ]
        }
      ]
    },
    {
      "cell_type": "markdown",
      "source": [
        "**Tarefa 2**"
      ],
      "metadata": {
        "id": "Gx3qy8cHuRkj"
      }
    },
    {
      "cell_type": "code",
      "source": [
        "from collections import deque\n",
        "\n",
        "#Passo 1: Criando uma fila vazia\n",
        "fila_de_pedidos = deque()\n",
        "\n",
        "#Passo 2: Criando uma função para adicionar pedidos a fila\n",
        "def adicionar_pedido(fila, pedido):\n",
        "  fila.append(pedido)\n",
        "\n",
        "#Passo 3: Adicionado pedidos a fila\n",
        "adicionar_pedido(fila_de_pedidos, \"Martelo Encantado\")\n",
        "adicionar_pedido(fila_de_pedidos, \"Pinça Teleportadora\")\n",
        "adicionar_pedido(fila_de_pedidos, \"Chave de Fenda Sônica\")\n",
        "print(f\"Pedidos a serem processados: {fila_de_pedidos}\")\n",
        "\n",
        "#Passo 4: Criando uma função para processar os pedidos da fila\n",
        "def processar_pedido(fila):\n",
        "  return fila.popleft()\n",
        "\n",
        "#Passo 5: Processando o primeiro pedido\n",
        "pedido_processado = processar_pedido(fila_de_pedidos)\n",
        "print(f\"Pedido atendido: {pedido_processado}\")\n",
        "\n",
        "#Passo 6: Criando uma função para verificar se a fila está vazia\n",
        "def fila_vazia(fila):\n",
        "  if not fila:\n",
        "    print(\"Todos pedidos foram processados\")\n",
        "  else:\n",
        "    print(\"Ainda há pedidos para serem processados\")\n",
        "\n",
        "#Passo 7: Verificando se a fila está vazia e imprimindo os pedidos restantes\n",
        "fila_vazia(fila_de_pedidos)\n",
        "print(f\"Pedidos a serem processados: {fila_de_pedidos}\")\n",
        "\n",
        "#Passo 8: Processando os pedidos restantes\n",
        "pedido_processado = processar_pedido(fila_de_pedidos)\n",
        "print(f\"Pedido atendido: {pedido_processado}\")\n",
        "\n",
        "pedido_processado = processar_pedido(fila_de_pedidos)\n",
        "print(f\"Pedido atendido: {pedido_processado}\")\n",
        "\n",
        "#Passo 9: Verificando se a fila está vazia novamente\n",
        "fila_vazia(fila_de_pedidos)\n",
        "\n",
        "# Processando os pedidos restantes\n",
        "#while not fila_vazia(fila_de_pedidos):\n",
        "    #pedido_atendido = processar_pedido(fila_de_pedidos)\n",
        "    #if pedido_atendido:\n",
        "        #print(\"Pedido atendido:\", pedido_atendido)"
      ],
      "metadata": {
        "colab": {
          "base_uri": "https://localhost:8080/"
        },
        "id": "NFUQV9JGdW0P",
        "outputId": "d2219657-8233-4ef4-d4e4-edd3bc20f543"
      },
      "execution_count": null,
      "outputs": [
        {
          "output_type": "stream",
          "name": "stdout",
          "text": [
            "Pedidos a serem processados: deque(['Martelo Encantado', 'Pinça Teleportadora', 'Chave de Fenda Sônica'])\n",
            "Pedido atendido: Martelo Encantado\n",
            "Ainda há pedidos para serem processados\n",
            "Pedidos a serem processados: deque(['Pinça Teleportadora', 'Chave de Fenda Sônica'])\n",
            "Pedido atendido: Pinça Teleportadora\n",
            "Pedido atendido: Chave de Fenda Sônica\n",
            "Todos pedidos foram processados\n"
          ]
        }
      ]
    },
    {
      "cell_type": "markdown",
      "source": [
        "**Tarefa 3**"
      ],
      "metadata": {
        "id": "XNU8b6XiuTnI"
      }
    },
    {
      "cell_type": "code",
      "source": [
        "#Passo 1: Criando uma lista vazia\n",
        "torre_de_cristais = []\n",
        "\n",
        "#Passo 2: Criando uma função para adicionar cristais a lista criada\n",
        "def empilhar_cristal(pilha, cristal):\n",
        "  pilha.append(cristal)\n",
        "\n",
        "#Passo 3: Adicionando cristais a lista\n",
        "empilhar_cristal(torre_de_cristais, \"Cristal do Passado\")\n",
        "empilhar_cristal(torre_de_cristais, \"Cristal do Presente\")\n",
        "empilhar_cristal(torre_de_cristais, \"Cristal do Futuro\")\n",
        "print(torre_de_cristais)\n",
        "\n",
        "#Passo 4: Criando uma função para começar a desempilhar os cristais da pilha utilizando o pop\n",
        "def desempilhar_cristal(pilha):\n",
        "  return pilha.pop()\n",
        "\n",
        "#Passo 5: Removendo o cristal de cima da pilha\n",
        "cristal_topo = desempilhar_cristal(torre_de_cristais)\n",
        "print(f\"O cristal utilizado para o ritual foi o {cristal_topo}\")\n",
        "\n",
        "#Passo 6: Criando uma função para verificar se ainda há cristais na pilha\n",
        "def pilha_vazia(pilha):\n",
        "  if not pilha:\n",
        "    print(\"A pilha está vazia.\")\n",
        "  else:\n",
        "    print(\"Ainda falta cristais na pilha.\")\n",
        "\n",
        "#Passo 7: Verificanddo se ainda há cristais para serem utilizados e imprimindo eles\n",
        "pilha_vazia(torre_de_cristais)\n",
        "print(f\"Cristais para serem utilizados ainda {torre_de_cristais}\")\n",
        "\n",
        "#Passo 8: Desempilhando os cristais restantes\n",
        "cristal_topo = desempilhar_cristal(torre_de_cristais)\n",
        "print(f\"O cristal utilizado para o ritual foi o {cristal_topo}\")\n",
        "\n",
        "cristal_topo = desempilhar_cristal(torre_de_cristais)\n",
        "print(f\"O cristal utilizado para o ritual foi o {cristal_topo}\")\n",
        "\n",
        "#Passo 9: Verificando novamente se ainda há cristais na pilha\n",
        "pilha_vazia(torre_de_cristais)"
      ],
      "metadata": {
        "id": "6qCeYdRMrXIJ",
        "colab": {
          "base_uri": "https://localhost:8080/"
        },
        "outputId": "d320b8c1-28fd-4d26-ff4e-3995e6d32c07"
      },
      "execution_count": null,
      "outputs": [
        {
          "output_type": "stream",
          "name": "stdout",
          "text": [
            "['Cristal do Passado', 'Cristal do Presente', 'Cristal do Futuro']\n",
            "O cristal utilizado para o ritual foi o Cristal do Futuro\n",
            "Ainda falta cristais na pilha.\n",
            "Cristais para serem utilizados ainda ['Cristal do Passado', 'Cristal do Presente']\n",
            "O cristal utilizado para o ritual foi o Cristal do Presente\n",
            "O cristal utilizado para o ritual foi o Cristal do Passado\n",
            "A pilha está vazia.\n"
          ]
        }
      ]
    }
  ]
}